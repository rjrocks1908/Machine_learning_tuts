{
  "nbformat": 4,
  "nbformat_minor": 0,
  "metadata": {
    "colab": {
      "name": "NumPy2.ipynb",
      "provenance": [],
      "authorship_tag": "ABX9TyND+lhVjPwMs3+9y2seeZMq",
      "include_colab_link": true
    },
    "kernelspec": {
      "name": "python3",
      "display_name": "Python 3"
    },
    "language_info": {
      "name": "python"
    }
  },
  "cells": [
    {
      "cell_type": "markdown",
      "metadata": {
        "id": "view-in-github",
        "colab_type": "text"
      },
      "source": [
        "<a href=\"https://colab.research.google.com/github/rjrocks1908/Machine_learning_tuts/blob/main/NumPy2.ipynb\" target=\"_parent\"><img src=\"https://colab.research.google.com/assets/colab-badge.svg\" alt=\"Open In Colab\"/></a>"
      ]
    },
    {
      "cell_type": "code",
      "execution_count": null,
      "metadata": {
        "id": "Te6M873oMHZO"
      },
      "outputs": [],
      "source": [
        "import numpy as np"
      ]
    },
    {
      "cell_type": "code",
      "source": [
        "mx_1s = np.ones(5)"
      ],
      "metadata": {
        "id": "u5yKvpARN2ax"
      },
      "execution_count": null,
      "outputs": []
    },
    {
      "cell_type": "code",
      "source": [
        "print(mx_1s)"
      ],
      "metadata": {
        "colab": {
          "base_uri": "https://localhost:8080/"
        },
        "id": "jznCV5oFOB3X",
        "outputId": "dd826bd4-54fb-4931-ed84-dc906c137cdc"
      },
      "execution_count": null,
      "outputs": [
        {
          "output_type": "stream",
          "name": "stdout",
          "text": [
            "[1. 1. 1. 1. 1.]\n"
          ]
        }
      ]
    },
    {
      "cell_type": "code",
      "source": [
        "#Creating Ones Matrix\n",
        "mx_1s = np.ones((3,4))\n",
        "print(mx_1s)"
      ],
      "metadata": {
        "colab": {
          "base_uri": "https://localhost:8080/"
        },
        "id": "pE8OIDe-OJVX",
        "outputId": "98897a81-7529-4ca3-c037-200eeaca2068"
      },
      "execution_count": null,
      "outputs": [
        {
          "output_type": "stream",
          "name": "stdout",
          "text": [
            "[[1. 1. 1. 1.]\n",
            " [1. 1. 1. 1.]\n",
            " [1. 1. 1. 1.]]\n"
          ]
        }
      ]
    },
    {
      "cell_type": "code",
      "source": [
        "#Creating Ones Matrix with specific data type\n",
        "mx_1s = np.ones((3,4), dtype = int)\n",
        "print(mx_1s)"
      ],
      "metadata": {
        "colab": {
          "base_uri": "https://localhost:8080/"
        },
        "id": "Ta81avL7OfCp",
        "outputId": "8c6c4731-ee8a-4de1-9db7-a1d01df1ce2b"
      },
      "execution_count": null,
      "outputs": [
        {
          "output_type": "stream",
          "name": "stdout",
          "text": [
            "[[1 1 1 1]\n",
            " [1 1 1 1]\n",
            " [1 1 1 1]]\n"
          ]
        }
      ]
    },
    {
      "cell_type": "code",
      "source": [
        "#Creating Zeros Matrix\n",
        "mx_0s = np.zeros((4,6))\n",
        "print(mx_0s)"
      ],
      "metadata": {
        "colab": {
          "base_uri": "https://localhost:8080/"
        },
        "id": "1iln3Hx_OgZ2",
        "outputId": "96a4b72a-bb3f-484b-c17a-98ff9926233d"
      },
      "execution_count": null,
      "outputs": [
        {
          "output_type": "stream",
          "name": "stdout",
          "text": [
            "[[0. 0. 0. 0. 0. 0.]\n",
            " [0. 0. 0. 0. 0. 0.]\n",
            " [0. 0. 0. 0. 0. 0.]\n",
            " [0. 0. 0. 0. 0. 0.]]\n"
          ]
        }
      ]
    },
    {
      "cell_type": "code",
      "source": [
        "#Creating Zeros Matrix with specific data type\n",
        "mx_0s = np.zeros((4,6), dtype=bool)\n",
        "print(mx_0s)"
      ],
      "metadata": {
        "colab": {
          "base_uri": "https://localhost:8080/"
        },
        "id": "MCjQg_6xO5om",
        "outputId": "e5ae2fb2-9c50-4639-d40b-b171bf347157"
      },
      "execution_count": null,
      "outputs": [
        {
          "output_type": "stream",
          "name": "stdout",
          "text": [
            "[[False False False False False False]\n",
            " [False False False False False False]\n",
            " [False False False False False False]\n",
            " [False False False False False False]]\n"
          ]
        }
      ]
    },
    {
      "cell_type": "code",
      "source": [
        "#Creating Zeros Matrix with str data type which results in the empty string\n",
        "mx_0s = np.zeros((4,6), dtype=str)\n",
        "print(mx_0s)"
      ],
      "metadata": {
        "colab": {
          "base_uri": "https://localhost:8080/"
        },
        "id": "aiy4dmF1PGP2",
        "outputId": "902419f1-2f5a-453b-d7ed-e8746357877f"
      },
      "execution_count": null,
      "outputs": [
        {
          "output_type": "stream",
          "name": "stdout",
          "text": [
            "[['' '' '' '' '' '']\n",
            " ['' '' '' '' '' '']\n",
            " ['' '' '' '' '' '']\n",
            " ['' '' '' '' '' '']]\n"
          ]
        }
      ]
    },
    {
      "cell_type": "code",
      "source": [
        "em_str = ''\n",
        "print(bool(em_str)) #Empty string is false"
      ],
      "metadata": {
        "colab": {
          "base_uri": "https://localhost:8080/"
        },
        "id": "0tWH6Q0qPK0m",
        "outputId": "44665de4-d2ea-4367-ebb2-37229dafb782"
      },
      "execution_count": null,
      "outputs": [
        {
          "output_type": "stream",
          "name": "stdout",
          "text": [
            "False\n"
          ]
        }
      ]
    },
    {
      "cell_type": "code",
      "source": [
        "#Creating the empty matrix\n",
        "em_mx = np.empty((3,3))\n",
        "print(em_mx) # any random value can be present in the empty matrix"
      ],
      "metadata": {
        "colab": {
          "base_uri": "https://localhost:8080/"
        },
        "id": "K96-oTaJPVYm",
        "outputId": "5a1172cf-62f6-4218-ca3e-5d1ad9ca1a69"
      },
      "execution_count": null,
      "outputs": [
        {
          "output_type": "stream",
          "name": "stdout",
          "text": [
            "[[4.66121155e-310 0.00000000e+000 0.00000000e+000]\n",
            " [0.00000000e+000 0.00000000e+000 0.00000000e+000]\n",
            " [0.00000000e+000 0.00000000e+000 0.00000000e+000]]\n"
          ]
        }
      ]
    },
    {
      "cell_type": "code",
      "source": [
        ""
      ],
      "metadata": {
        "id": "GFZyHnAWQSXK"
      },
      "execution_count": null,
      "outputs": []
    }
  ]
}