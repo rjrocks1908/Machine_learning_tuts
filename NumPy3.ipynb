{
  "nbformat": 4,
  "nbformat_minor": 0,
  "metadata": {
    "colab": {
      "name": "NumPy3.ipynb",
      "provenance": [],
      "collapsed_sections": [],
      "authorship_tag": "ABX9TyNFrXhDnHTq5cFLwqbhgnml",
      "include_colab_link": true
    },
    "kernelspec": {
      "name": "python3",
      "display_name": "Python 3"
    },
    "language_info": {
      "name": "python"
    }
  },
  "cells": [
    {
      "cell_type": "markdown",
      "metadata": {
        "id": "view-in-github",
        "colab_type": "text"
      },
      "source": [
        "<a href=\"https://colab.research.google.com/github/rjrocks1908/Machine_learning_tuts/blob/main/NumPy3.ipynb\" target=\"_parent\"><img src=\"https://colab.research.google.com/assets/colab-badge.svg\" alt=\"Open In Colab\"/></a>"
      ]
    },
    {
      "cell_type": "markdown",
      "source": [
        "**NumPy Functions :**"
      ],
      "metadata": {
        "id": "KmXu_MTJ9d60"
      }
    },
    {
      "cell_type": "code",
      "execution_count": 2,
      "metadata": {
        "id": "aw3_FWHs9Rt_"
      },
      "outputs": [],
      "source": [
        "import numpy as np"
      ]
    },
    {
      "cell_type": "markdown",
      "source": [
        "**arange()**"
      ],
      "metadata": {
        "id": "SqHG4-Fb-N8P"
      }
    },
    {
      "cell_type": "code",
      "source": [
        "#np.arange(start, end, steps)\n",
        "arr_1d = np.arange(1,13)\n",
        "print(arr_1d)"
      ],
      "metadata": {
        "colab": {
          "base_uri": "https://localhost:8080/"
        },
        "id": "_nm5nvDh9qFj",
        "outputId": "dfbf07b8-e6f3-491c-c412-8bae146e1dc5"
      },
      "execution_count": 3,
      "outputs": [
        {
          "output_type": "stream",
          "name": "stdout",
          "text": [
            "[ 1  2  3  4  5  6  7  8  9 10 11 12]\n"
          ]
        }
      ]
    },
    {
      "cell_type": "code",
      "source": [
        "even_ar = np.arange(1,13,2)\n",
        "print(even_ar)"
      ],
      "metadata": {
        "colab": {
          "base_uri": "https://localhost:8080/"
        },
        "id": "BLTPvnom-dc0",
        "outputId": "76392154-f31c-4209-f4f4-81ebea61dff6"
      },
      "execution_count": 4,
      "outputs": [
        {
          "output_type": "stream",
          "name": "stdout",
          "text": [
            "[ 1  3  5  7  9 11]\n"
          ]
        }
      ]
    },
    {
      "cell_type": "markdown",
      "source": [
        "**linspace()**"
      ],
      "metadata": {
        "id": "-gmNBnSq-xdP"
      }
    },
    {
      "cell_type": "code",
      "source": [
        "# np.linspace(start no, end no, number of values)\n",
        "np.linspace(1,5,45)"
      ],
      "metadata": {
        "colab": {
          "base_uri": "https://localhost:8080/"
        },
        "id": "h7BXQSv4-l_U",
        "outputId": "b3b4ba7b-c12f-4adb-fabe-e7c54769e7e4"
      },
      "execution_count": 7,
      "outputs": [
        {
          "output_type": "execute_result",
          "data": {
            "text/plain": [
              "array([1.        , 1.09090909, 1.18181818, 1.27272727, 1.36363636,\n",
              "       1.45454545, 1.54545455, 1.63636364, 1.72727273, 1.81818182,\n",
              "       1.90909091, 2.        , 2.09090909, 2.18181818, 2.27272727,\n",
              "       2.36363636, 2.45454545, 2.54545455, 2.63636364, 2.72727273,\n",
              "       2.81818182, 2.90909091, 3.        , 3.09090909, 3.18181818,\n",
              "       3.27272727, 3.36363636, 3.45454545, 3.54545455, 3.63636364,\n",
              "       3.72727273, 3.81818182, 3.90909091, 4.        , 4.09090909,\n",
              "       4.18181818, 4.27272727, 4.36363636, 4.45454545, 4.54545455,\n",
              "       4.63636364, 4.72727273, 4.81818182, 4.90909091, 5.        ])"
            ]
          },
          "metadata": {},
          "execution_count": 7
        }
      ]
    },
    {
      "cell_type": "markdown",
      "source": [
        "**reshape()**"
      ],
      "metadata": {
        "id": "xeYT1dYb_gcm"
      }
    },
    {
      "cell_type": "code",
      "source": [
        "#it is used to change the dimension of an array for eg- 1D to 2D, 1D to 3D\n",
        "ar_2d = arr_1d.reshape(2,6)\n",
        "print(ar_2d)"
      ],
      "metadata": {
        "colab": {
          "base_uri": "https://localhost:8080/"
        },
        "id": "V8n8kZ5D_T_1",
        "outputId": "ee6c37ea-7627-4cae-916a-06e7cb3830a9"
      },
      "execution_count": 10,
      "outputs": [
        {
          "output_type": "stream",
          "name": "stdout",
          "text": [
            "[[ 1  2  3  4  5  6]\n",
            " [ 7  8  9 10 11 12]]\n"
          ]
        }
      ]
    },
    {
      "cell_type": "code",
      "source": [
        "ar_3d = arr_1d.reshape(2,3,2)\n",
        "print(ar_3d)"
      ],
      "metadata": {
        "colab": {
          "base_uri": "https://localhost:8080/"
        },
        "id": "B7dYVmAXAoI3",
        "outputId": "28c26878-3a89-4aca-d237-08be57c5fff5"
      },
      "execution_count": 11,
      "outputs": [
        {
          "output_type": "stream",
          "name": "stdout",
          "text": [
            "[[[ 1  2]\n",
            "  [ 3  4]\n",
            "  [ 5  6]]\n",
            "\n",
            " [[ 7  8]\n",
            "  [ 9 10]\n",
            "  [11 12]]]\n"
          ]
        }
      ]
    },
    {
      "cell_type": "code",
      "source": [
        "ar = np.arange(1,13).reshape(2,6)\n",
        "print(ar)"
      ],
      "metadata": {
        "colab": {
          "base_uri": "https://localhost:8080/"
        },
        "id": "5CZ2ZtPEA020",
        "outputId": "63e79a1a-0860-4347-93fd-c1757f2743da"
      },
      "execution_count": 12,
      "outputs": [
        {
          "output_type": "stream",
          "name": "stdout",
          "text": [
            "[[ 1  2  3  4  5  6]\n",
            " [ 7  8  9 10 11 12]]\n"
          ]
        }
      ]
    },
    {
      "cell_type": "markdown",
      "source": [
        "**ravel()**"
      ],
      "metadata": {
        "id": "tPx_AHJNBMcm"
      }
    },
    {
      "cell_type": "code",
      "source": [
        "#it converts multi-dimensional array into 1D array\n",
        "ar.ravel()"
      ],
      "metadata": {
        "colab": {
          "base_uri": "https://localhost:8080/"
        },
        "id": "tTJOkxxwBDBU",
        "outputId": "cd541a70-5fb1-4fdc-eac8-5c76e0032871"
      },
      "execution_count": 13,
      "outputs": [
        {
          "output_type": "execute_result",
          "data": {
            "text/plain": [
              "array([ 1,  2,  3,  4,  5,  6,  7,  8,  9, 10, 11, 12])"
            ]
          },
          "metadata": {},
          "execution_count": 13
        }
      ]
    },
    {
      "cell_type": "markdown",
      "source": [
        "**flatten()**"
      ],
      "metadata": {
        "id": "I-AQxUrxBtlF"
      }
    },
    {
      "cell_type": "code",
      "source": [
        "#it also converts multi-dimensional array into 1D array\n",
        "ar.flatten()"
      ],
      "metadata": {
        "colab": {
          "base_uri": "https://localhost:8080/"
        },
        "id": "txqJ9RaMBct0",
        "outputId": "ffcf3a41-a00a-4ab2-fbc2-4842df153fee"
      },
      "execution_count": 14,
      "outputs": [
        {
          "output_type": "execute_result",
          "data": {
            "text/plain": [
              "array([ 1,  2,  3,  4,  5,  6,  7,  8,  9, 10, 11, 12])"
            ]
          },
          "metadata": {},
          "execution_count": 14
        }
      ]
    },
    {
      "cell_type": "markdown",
      "source": [
        "**transpose()**"
      ],
      "metadata": {
        "id": "S2deqogBB45X"
      }
    },
    {
      "cell_type": "code",
      "source": [
        "#converts rows into columns and columns into rows\n",
        "ar.transpose()"
      ],
      "metadata": {
        "colab": {
          "base_uri": "https://localhost:8080/"
        },
        "id": "oXI6X0rhB2LU",
        "outputId": "1de14153-b298-4196-e6bd-1eda5d8b3655"
      },
      "execution_count": 15,
      "outputs": [
        {
          "output_type": "execute_result",
          "data": {
            "text/plain": [
              "array([[ 1,  7],\n",
              "       [ 2,  8],\n",
              "       [ 3,  9],\n",
              "       [ 4, 10],\n",
              "       [ 5, 11],\n",
              "       [ 6, 12]])"
            ]
          },
          "metadata": {},
          "execution_count": 15
        }
      ]
    },
    {
      "cell_type": "code",
      "source": [
        "ar.T"
      ],
      "metadata": {
        "colab": {
          "base_uri": "https://localhost:8080/"
        },
        "id": "2vZES1t3CCfm",
        "outputId": "f1ec4f2c-e380-42a6-ecc7-27025e6e5ece"
      },
      "execution_count": 16,
      "outputs": [
        {
          "output_type": "execute_result",
          "data": {
            "text/plain": [
              "array([[ 1,  7],\n",
              "       [ 2,  8],\n",
              "       [ 3,  9],\n",
              "       [ 4, 10],\n",
              "       [ 5, 11],\n",
              "       [ 6, 12]])"
            ]
          },
          "metadata": {},
          "execution_count": 16
        }
      ]
    },
    {
      "cell_type": "code",
      "source": [
        ""
      ],
      "metadata": {
        "id": "OPqIHIHdQS0a"
      },
      "execution_count": null,
      "outputs": []
    }
  ]
}